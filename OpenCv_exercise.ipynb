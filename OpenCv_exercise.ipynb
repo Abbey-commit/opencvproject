{
 "cells": [
  {
   "cell_type": "code",
   "execution_count": 1,
   "metadata": {},
   "outputs": [],
   "source": [
    "import cv2\n",
    "import numpy as np\n"
   ]
  },
  {
   "cell_type": "code",
   "execution_count": 2,
   "metadata": {},
   "outputs": [],
   "source": [
    "# image = cv2.imread(\"IMG_20200703_092524.jpg\", 1)\n",
    "# print(image)"
   ]
  },
  {
   "cell_type": "code",
   "execution_count": 3,
   "metadata": {},
   "outputs": [],
   "source": [
    "# image.shape"
   ]
  },
  {
   "cell_type": "code",
   "execution_count": 4,
   "metadata": {},
   "outputs": [],
   "source": [
    "# ima = cv2.imread(\"swit2-px.jpg\", 0)\n",
    "# print(ima)"
   ]
  },
  {
   "cell_type": "code",
   "execution_count": 5,
   "metadata": {},
   "outputs": [],
   "source": [
    "# ima.shape"
   ]
  },
  {
   "cell_type": "code",
   "execution_count": 6,
   "metadata": {},
   "outputs": [],
   "source": [
    "# #Resize the image\n",
    "# cv2.resize(ima, (100, 250), fx=10, fy=10)\n",
    "# # Display the image\n",
    "# cv2.imshow(\"Image\", ima)\n",
    "# # wait for the user to press any key\n",
    "# cv2.waitKey(1)\n",
    "# # Destroy all windows \n",
    "# cv2.destroyAllWindows()"
   ]
  },
  {
   "cell_type": "code",
   "execution_count": 7,
   "metadata": {},
   "outputs": [],
   "source": [
    "# img = cv2.imread(\"swit2.jpg\", 1)\n",
    "\n",
    "# print(\"The data type of the Image is: {}\", format(img.dtype))\n",
    "# print(\"The dimension of the image is {}\", format(img.ndim))"
   ]
  },
  {
   "cell_type": "code",
   "execution_count": 8,
   "metadata": {},
   "outputs": [],
   "source": [
    "# print(img[300, 300])"
   ]
  },
  {
   "cell_type": "code",
   "execution_count": 9,
   "metadata": {},
   "outputs": [],
   "source": [
    "# img[300, 300] = 0"
   ]
  },
  {
   "cell_type": "code",
   "execution_count": 10,
   "metadata": {},
   "outputs": [],
   "source": [
    "# # Make a copy of the original Image\n",
    "# Img_copy = img.copy()\n",
    "# # Modify the ROI\n",
    "# Img_copy[100:150, 80:120] = 0\n",
    "# # Display image\n",
    "# cv2.imshow(\"Fixed Resizing\", Img_copy)\n",
    "# cv2.waitKey(0)\n",
    "# cv2.destroyAllWindows()"
   ]
  },
  {
   "cell_type": "code",
   "execution_count": 11,
   "metadata": {},
   "outputs": [],
   "source": [
    "# Read image in color\n",
    "# image = cv2.imread(\"IMG_20200703_092524.jpg\", 1)\n",
    "\n",
    "# # Resizing image to a fix 300x300 size\n",
    "# resized = cv2.resize(image, (300, 300))\n",
    "\n",
    "# # Display image\n",
    "# cv2.imshow(\"Fixed Resizing\", resized);\n",
    "# cv2.waitKey(0)\n",
    "# cv2.destroyAllWindows()"
   ]
  },
  {
   "cell_type": "code",
   "execution_count": 12,
   "metadata": {},
   "outputs": [],
   "source": [
    "# imag = cv2.imread(\"swit2-px.jpg\", 1)\n",
    "\n",
    "# # Get the width and height of image\n",
    "# height, width = imag.shape[:-1]\n",
    "\n",
    "# # Compute ratio for the new height taking into account the 300 px width of image\n",
    "# r = 300.0/width\n",
    "\n",
    "# # Get the new height\n",
    "# new_height = int(height * r)\n",
    "\n",
    "# #Resize the image with 300 width and new height\n",
    "# resized = cv2.resize(imag, (600, new_height))\n",
    "\n",
    "# #Display Resize Image\n",
    "# cv2.imshow(\"Aspect Ratio Resize\", resized)\n",
    "# cv2.waitKey(0)\n",
    "# cv2.destroyAllWindows()"
   ]
  },
  {
   "cell_type": "code",
   "execution_count": 13,
   "metadata": {},
   "outputs": [],
   "source": [
    "im = cv2.imread(\"swit2.jpg\", 1)\n",
    "\n",
    "rows, cols, channels = im.shape\n",
    "\n",
    "# Construct the translation matrix\n",
    "M = np.float32([\n",
    "    [1,0, 120],\n",
    "    [0,1, -40]\n",
    "])\n",
    "\n",
    "#Apply the warpAffine function\n",
    "translated = cv2.warpAffine(im, M, (cols, rows))\n",
    "\n",
    "# #Display image\n",
    "# cv2.imshow(\"Translated Image\", translated);\n",
    "# cv2.waitKey(0)\n",
    "# cv2.destroyAllWindows()"
   ]
  },
  {
   "cell_type": "code",
   "execution_count": 14,
   "metadata": {},
   "outputs": [],
   "source": [
    "# Set angle to 45 degrees\n",
    "# angle = 45\n",
    "\n",
    "# # Rotate image from center of image with an angle of 45 degrees at the same scale.\n",
    "# rotation_matrix = cv2.getRotationMatrix2D((cols/2, rows/2), angle, 1)\n",
    "\n",
    "# # Apply the transformation\n",
    "# rotated = cv2.warpAffine(im, rotation_matrix, (cols,rows))\n",
    "\n",
    "# # Display image\n",
    "# cv2.imshow(\"Rotate Image\", rotated)\n",
    "# cv2.waitKey(0)\n",
    "# cv2.destroyAllWindows()"
   ]
  },
  {
   "cell_type": "code",
   "execution_count": 15,
   "metadata": {},
   "outputs": [],
   "source": [
    "# # Make a copy of the original image\n",
    "# copy = im.copy()\n",
    "\n",
    "# # Draw a line on the image with these parameters.\n",
    "# cv2.line(copy, (550, 700), (300, 40), (255, 255, 0), 5)\n",
    "\n",
    "# cv2.imshow(\"Draw Line\", copy);\n",
    "# cv2.waitKey(0)\n",
    "# cv2.destroyAllWindows()"
   ]
  },
  {
   "cell_type": "code",
   "execution_count": 16,
   "metadata": {},
   "outputs": [],
   "source": [
    "# Make a copy of the original image\n",
    "# copy = im.copy()\n",
    "\n",
    "# #Draw a Circle on Bisi's face with a radius of a 100.\n",
    "# cv2.circle(copy, (490, 500), 200, (255, 255, 0), 5)\n",
    "\n",
    "# #Display image\n",
    "# cv2.imshow(\"Draw Circle\", copy)\n",
    "# cv2.waitKey(0)\n",
    "# cv2.destaoyAllWindows()"
   ]
  },
  {
   "cell_type": "code",
   "execution_count": 17,
   "metadata": {},
   "outputs": [],
   "source": [
    "# Make a copy of the original image\n",
    "# copy = im.copy()\n",
    "# # Draw Rectangle around Bisi's face\n",
    "# cv2.rectangle(copy, (340, 380), (650, 690), (0, 250, 0),3)\n",
    "# #Dispaly image\n",
    "# cv2.imshow(\"Draw Rectangle\", copy)\n",
    "# cv2.waitKey(0)\n",
    "# cv2.destroyAllWindows()"
   ]
  },
  {
   "cell_type": "code",
   "execution_count": 18,
   "metadata": {},
   "outputs": [],
   "source": [
    "#Make copy of the original Image\n",
    "# copy = im.copy()\n",
    "# #Write 'Bleed AI' on the Image\n",
    "# img = cv2.putText(im, 'Bleed-AI', (350,470),cv2.FONT_HERSHEY_SIMPLEX, 1.7, (255, 255, 0), 4)\n",
    "# # Display image\n",
    "# cv2.imshow(\"Write Text\", img);\n",
    "# cv2.waitKey(0)\n",
    "# cv2.destroyAllWindows()"
   ]
  },
  {
   "cell_type": "code",
   "execution_count": 19,
   "metadata": {},
   "outputs": [],
   "source": [
    "# # Grab the Face ROI\n",
    "# face_roi = im[100:250, 350:450].copy()\n",
    "\n",
    "# # Display image\n",
    "# cv2.imshow(\"Image\", face_roi)\n",
    "# cv2.waitKey(0)\n",
    "# cv2.destroyAllWindows()"
   ]
  },
  {
   "cell_type": "code",
   "execution_count": 20,
   "metadata": {},
   "outputs": [],
   "source": [
    "# Blur the image\n",
    "# blurred = cv2.GaussianBlur(im,(9,9), 50)\n",
    "# #Display blurred iamge\n",
    "# cv2.imshow(\"Blur\", blurred)\n",
    "# cv2.waitKey(0)\n",
    "# cv2.destroyAllWindows()"
   ]
  },
  {
   "cell_type": "code",
   "execution_count": 21,
   "metadata": {},
   "outputs": [],
   "source": [
    "# Read the image\n",
    "img = cv2.imread(\"3148314.jpg\")\n",
    "# # Convert the color image to grayscale\n",
    "gray_img = cv2.cvtColor(img, cv2.COLOR_BGR2GRAY)\n",
    "# # # Display the grayscale image\n",
    "# cv2.imshow(\"Grayscale image\", gray_img)\n",
    "# cv2.waitKey(0)\n",
    "# cv2.destroyAllWindows()"
   ]
  },
  {
   "cell_type": "code",
   "execution_count": 22,
   "metadata": {},
   "outputs": [],
   "source": [
    "# Apply the threshold\n",
    "# _ , thresholded_image = cv2.threshold(gray_img, 220, 255, cv2.THRESH_BINARY)\n",
    "# # Display Thresholded image\n",
    "# cv2.imshow(\"Threshold Image\", thresholded_image)\n",
    "# cv2.waitKey(0)\n",
    "# cv2.destroyAllWindows()"
   ]
  },
  {
   "cell_type": "code",
   "execution_count": 23,
   "metadata": {},
   "outputs": [],
   "source": [
    "# Apply the threshold\n",
    "# _ , thresholded_image = cv2.threshold(gray_img, 220, 255, cv2.THRESH_BINARY_INV)\n",
    "# # Display Threshold image\n",
    "# cv2.imshow(\"Thresholded Image\", thresholded_image)\n",
    "# cv2.waitKey(0)\n",
    "# cv2.destroyAllWindows()"
   ]
  },
  {
   "cell_type": "code",
   "execution_count": 24,
   "metadata": {},
   "outputs": [],
   "source": [
    "# Detect the edges in the image\n",
    "# edges = cv2.Canny(img, 30, 150)\n",
    "# # Display images\n",
    "# cv2.imshow(\"Edges Detection\", edges)\n",
    "# cv2.waitKey(0)\n",
    "# cv2.destroyAllWindows()"
   ]
  },
  {
   "cell_type": "code",
   "execution_count": 25,
   "metadata": {},
   "outputs": [],
   "source": [
    "# Make a copy of the original image so it won't be corrupted during drawing\n",
    "# image_copy = img.copy()\n",
    "\n",
    "# #Alternatively you can also pass the edge output to the contours function.\n",
    "# # Threshold image, Remember the target object is white and the background is black\n",
    "# gray_image = cv2.cvtColor(img, cv2.COLOR_BGR2GRAY)\n",
    "# _ , thresholded_image = cv2.threshold(gray_image, 220, 255, cv2.THRESH_BINARY_INV)\n",
    "\n",
    "# # Detect Coutours\n",
    "# contours, _ = cv2.findContours(thresholded_image, cv2.RETR_EXTERNAL, cv2.CHAIN_APPROX_NONE)\n",
    "\n",
    "# # Draw the detection contours, -1 mean draw all detected contours\n",
    "# cv2.drawContours(image_copy , contours, -1 , (0,255,0), 3)\n",
    "\n",
    "# # Display image\n",
    "# cv2.imshow(\"Contour Detection\", image_copy);\n",
    "# # cv2.waitKey(0)\n",
    "# # cv2destroyAllWindows()\n",
    "# print(\"Total Shape present in image are: {}\".format(len(contours)))"
   ]
  },
  {
   "cell_type": "code",
   "execution_count": 26,
   "metadata": {},
   "outputs": [],
   "source": [
    "# read the image\n",
    "# img = cv2.imread(\"mediawhitenoise.png\", 0)\n",
    "\n",
    "# # Make a 7 * 7 kernel of ones\n",
    "# kernel = np.ones((7, 7), np.uint8)\n",
    "\n",
    "# # Apply erosion with an iteration of 2 \n",
    "# eroded_image = cv2.erode(img, kernel, iterations = 4)\n",
    "\n",
    "# # Disply Image\n",
    "# cv2.imshow(\"Eroded Image\", eroded_image)\n",
    "# cv2.waitKey(0)\n",
    "# cv2.destroyAllWindows()"
   ]
  },
  {
   "cell_type": "code",
   "execution_count": 27,
   "metadata": {},
   "outputs": [],
   "source": [
    "# Read the image\n",
    "# img = cv2.imread(\"Screenshot (221).png\", 0)\n",
    "\n",
    "# #Make a 7 * 7 kernel of ones\n",
    "# kernel = np.ones((7,7), np.uint8)\n",
    "\n",
    "# # Make dilation with an iteration of 3\n",
    "# dilated_image = cv2.dilate(img, kernel, iterations = 3)\n",
    "\n",
    "# # Display image\n",
    "# cv2.imshow(\"Dilated Image\", dilated_image)\n",
    "# cv2.waitKey(0)\n",
    "# cv2.destroyAllWindows()"
   ]
  },
  {
   "cell_type": "code",
   "execution_count": 28,
   "metadata": {},
   "outputs": [],
   "source": [
    "# Initialize Video capture Object\n",
    "# cap = cv2.VideoCapture(0)\n",
    "\n",
    "# # Initialize a loop in which we will read video frame by frame\n",
    "# while(True):\n",
    "    \n",
    "#     # Read frame by frame\n",
    "#     ret, frame = cap.read()\n",
    "    \n",
    "#     # If a frame is not read correctly exit the loop, most useful when working with video\n",
    "#     if not ret:\n",
    "#         break\n",
    "        \n",
    "#     # Now we can perform any image processing operations\n",
    "#     # I'm just going to convert to grayscale and call it a gray for this one\n",
    "#     gray = cv2.cvtColor(frame, cv2.COLOR_BGR2GRAY)\n",
    "    \n",
    "#     # Show the frame we just read\n",
    "#     cv2.imshow(\"frame\", gray)\n",
    "    \n",
    "#     # Wait for the 1 millisecond before showing the next frame\n",
    "#     # If the user presses the `q` key then exit the loop\n",
    "#     if cv2.waitKey(1) == ord('q'):\n",
    "#         break\n",
    "# #Release the camera\n",
    "# cap.release()\n",
    "\n",
    "# # Destroy the windows you created\n",
    "# cv2.destroyAllWindows()"
   ]
  },
  {
   "cell_type": "markdown",
   "metadata": {
    "scrolled": true
   },
   "source": [
    "<!-- ### Read the image on which we want to apply face detection\n",
    "# image = cv2.imread(\"john.png\")\n",
    "\n",
    "# # Initialize the haar classifier with the face detector model\n",
    "# face_cascade = cv2.CascadeClassifier('haarcascade_frontalface_default.xml')\n",
    "\n",
    "# # Perform the detection, here we will use 1.3 scale factor and 5 min neighbours\n",
    "# faces = face_cascade.detectMultiScale(image, 1.3, 5)\n",
    "\n",
    "# # Loop through each face and a rectangle on the face coordinates\n",
    "# for (x, y, w, h) in faces:\n",
    "#     cv2.rectangle(image, (x, y),(x+w,y+h),(0,255,255),4)\n",
    "#     cv2.putText(image, \"Face Detected\", (x,y+h+15), cv2.FONT_HERSHEY_SIMPLEX, 0.5, (255,0,25), 1, cv2.LINE_AA)\n",
    "    \n",
    "# # Display images\n",
    "# cv2.imshow(\"Original\", image);\n",
    "# cv2.imshow(\"Face Detected\", image);\n",
    "# cv2.waitKey(0)\n",
    "# cv2.destroyAllWindows() -->"
   ]
  },
  {
   "cell_type": "code",
   "execution_count": 6,
   "metadata": {},
   "outputs": [
    {
     "data": {
      "text/plain": [
       "<CascadeClassifier 000001B5E9698DB0>"
      ]
     },
     "execution_count": 6,
     "metadata": {},
     "output_type": "execute_result"
    }
   ],
   "source": [
    "trained_face_data"
   ]
  },
  {
   "cell_type": "code",
   "execution_count": null,
   "metadata": {},
   "outputs": [],
   "source": [
    "import cv2\n",
    "# \n",
    "#Load some pre-trained data on face frontals from opencv (haar cascade algorithm)\n",
    "trained_face_data = cv2.CascadeClassifier('haarcascade_frontalface_default.xml')\n",
    "eye_cascade = cv2.CascadeClassifier('haarcascade_eye.xml')\n",
    "\n",
    "cap = cv2.VideoCapture(1)\n",
    "\n",
    "while True:\n",
    "    ret, img = cap.read()\n",
    "    gray = cv2.cvtColor(img, cv2.COLOR_BGR2GRAY)\n",
    "\n",
    "    faces = trained_face_data.detectMultiScale(gray)\n",
    "    for (x,y,w,h) in faces:\n",
    "        cv2.rectangle(img, (x,y),(x+y, y+h), (255,0,0),2)\n",
    "        roi_gray = gray[y:y+h, x:x+w]\n",
    "        roi_color = img[y:y+h, x:x+w]\n",
    "        eyes = eye_cascade.detectMultiScale(roi_gray)\n",
    "        for (ex, ey, ew, eh) in eyes:\n",
    "            cv2.rectangle(roi_color, (ex,ey),(ex+ew,ey+ey), (0,255,0), 2)\n",
    "            \n",
    "    cv2.imshow('Image', img)\n",
    "    k = cv2.waitKey(30) & 0xff\n",
    "    if k ==27:\n",
    "        break\n",
    "        \n",
    "cap.release()\n",
    "cv2.destroyAllWindows()\n"
   ]
  },
  {
   "cell_type": "code",
   "execution_count": null,
   "metadata": {},
   "outputs": [],
   "source": [
    "import cv2\n",
    "\n",
    "Load some pre-trained data on the frontals from opencv (haar cascade algorithm)\n",
    "trained_face_data = cv2.CascadeClassifier('haarcascade_frontalface_defaut.xml')\n",
    "\n",
    "# Choose an image to detect face in \n",
    "img = cv2.imread(\"swit2.jpg\")\n",
    "\n",
    "# Must convert to grayscale\n",
    "grayscaled_img = cv2.cvtColor(img, cv2.COLOR_BGR2GRAY)\n",
    "\n",
    "# Detect faces\n",
    "face_coordinates = trained_face_data.detectMultiScale(grayscaled_img)\n",
    "\n",
    "# Draw rectangles around the faces\n",
    "(x, y, w, h) = face_coordinates\n",
    "cv2.rectangle(img, (x,y), (x+w,y+h), (0,252,0),2)\n",
    "\n",
    "# import numpy as np\n",
    "# import cv2\n",
    "\n",
    "# face_cascade = cv2.CascadeClassifier('C:\\\\opencv\\\\build\\\\etc\\\\haarcascades\\\\haarcascade_frontalface_default.xml')\n",
    "# eye_cascade = cv2.CascadeClassifier('C:\\\\opencv\\\\build\\\\etc\\\\haarcascades\\\\haarcascade_eye.xml')\n",
    "\n",
    "# img = cv2.imread('swit2.jpg')\n",
    "\n",
    "# gray = cv2.cvtColor(img, cv2.COLOR_BGR2GRAY)\n",
    "\n",
    "# faces = face_cascade.detectMultiScale(gray, 1.3, 5)\n",
    "# #faces = face_cascade.detectMultiScale(gray)\n",
    "\n",
    "# for (x,y,w,h) in faces:\n",
    "#     cv2.rectangle(img,(x,y),(x+w,y+h),(255,0,0),2)\n",
    "#     roi_gray = gray[y:y+h, x:x+w]\n",
    "#     roi_color = img[y:y+h, x:x+w]\n",
    "#     eyes = eye_cascade.detectMultiScale(roi_gray)\n",
    "#     for (ex,ey,ew,eh) in eyes:\n",
    "#         cv2.rectangle(roi_color,(ex,ey),(ex+ew,ey+eh),(0,255,0),2)\n",
    "\n",
    "# cv2.imshow('img',img)\n",
    "\n",
    "# k = cv2.waitKey(0)\n",
    "# if k == 27:         # wait for ESC key to exit\n",
    "#     cv2.destroyAllWindows()\n",
    "# elif k == ord('s'): # wait for 's' key to save and exit\n",
    "#     cv2.imwrite('messigray.png',img)\n",
    "#     cv2.destroyAllWindows()\n",
    "\n",
    "# face_cascade = cv2.CascadeClassifier('haarcascade_frontalface_default.xml')\n",
    "# eye_cascade = cv2.CascadeClassifier('haarcascade_eye.xml')\n",
    "\n",
    "# img = cv2.imread('xfiles.png')\n",
    "# gray = cv2.cvtColor(img, cv2.COLOR_BGR2GRAY)\n",
    "\n",
    "# #cv2.CascadeClassifier.detectMultiScale(image [,ScaleFactor[, minNeighbors [, flgs [, minSize [, maxSize]]]]])\n",
    "# faces = face_detection.detectMultiScale(gray, 1.3, 5)\n",
    "\n",
    "# for (x,y,w,h) in faces:\n",
    "#     cv2.rectangle(img, (x,y), (x+w,y+h), (255, 0,0), 2)\n",
    "#     roi_gray = gray[y:y+h,x:x+w]\n",
    "#     roi_color = img[y:y+h,w:x+w]\n",
    "#     eye = eye_cascade.detectMultiScale(roi_gray)\n",
    "#     for (ex,ey,ew,eh) in eye:\n",
    "#         cv2.rectangle(img, (ex,ey), (ex+ew,ey+eh),(255,0,0),2)\n",
    "        \n",
    "# cv2.imshow('image',img)\n",
    "# cv2.waitKey(0)\n",
    "# cv2.destroyAllWindows()"
   ]
  },
  {
   "cell_type": "code",
   "execution_count": 6,
   "metadata": {},
   "outputs": [
    {
     "data": {
      "text/plain": [
       "'Tiger'"
      ]
     },
     "execution_count": 6,
     "metadata": {},
     "output_type": "execute_result"
    }
   ],
   "source": [
    "import re\n",
    "string = \"Tiger is a national animal in India\"\n",
    "patern = \"Tiger\"\n",
    "result = re.match(patern, string).group(0)\n",
    "result\n"
   ]
  },
  {
   "cell_type": "code",
   "execution_count": 7,
   "metadata": {},
   "outputs": [
    {
     "data": {
      "text/plain": [
       "'Tiger'"
      ]
     },
     "execution_count": 7,
     "metadata": {},
     "output_type": "execute_result"
    }
   ],
   "source": [
    "string = \"The national animal in India is Tiger\"\n",
    "pattern =  \"Tiger\"\n",
    "result = re.search(pattern, string).group(0)\n",
    "pattern"
   ]
  },
  {
   "cell_type": "code",
   "execution_count": 10,
   "metadata": {},
   "outputs": [
    {
     "data": {
      "text/plain": [
       "['Tiger']"
      ]
     },
     "execution_count": 10,
     "metadata": {},
     "output_type": "execute_result"
    }
   ],
   "source": [
    "string = \"The national animal in India is Tiger\"\n",
    "pattern =  \"Tiger\"\n",
    "result = re.findall(pattern, string)\n",
    "result"
   ]
  },
  {
   "cell_type": "code",
   "execution_count": 13,
   "metadata": {},
   "outputs": [
    {
     "data": {
      "text/plain": [
       "['12-05-2007', '12-01-2009']"
      ]
     },
     "execution_count": 13,
     "metadata": {},
     "output_type": "execute_result"
    }
   ],
   "source": [
    "string = \"John 34-3456 12-05-2007, XYZ 56-4532 11-112011, ABC 67-8945 12-01-2009\"\n",
    "pattern = r'\\d{2}-\\d{2}-\\d{4}'\n",
    "re.findall(pattern, string)"
   ]
  },
  {
   "cell_type": "code",
   "execution_count": 23,
   "metadata": {},
   "outputs": [
    {
     "data": {
      "text/plain": [
       "['this', 'is', 'a', 'sample', 'text', 'string']"
      ]
     },
     "execution_count": 23,
     "metadata": {},
     "output_type": "execute_result"
    }
   ],
   "source": [
    "string = \"this is:a,sample,text,string\"\n",
    "pattern = r'[:,\\s]'\n",
    "re.split(pattern, string)"
   ]
  },
  {
   "cell_type": "code",
   "execution_count": 27,
   "metadata": {},
   "outputs": [
    {
     "data": {
      "text/plain": [
       "'cricket is a popular sport of India'"
      ]
     },
     "execution_count": 27,
     "metadata": {},
     "output_type": "execute_result"
    }
   ],
   "source": [
    "string = \"cricket is a popular sport of India\"\n",
    "pattern = \"india\"\n",
    "replacement = \"the world\"\n",
    "re.sub(pattern, replacement, string)"
   ]
  },
  {
   "cell_type": "code",
   "execution_count": 31,
   "metadata": {},
   "outputs": [
    {
     "name": "stdout",
     "output_type": "stream",
     "text": [
      "['national', 'national']\n"
     ]
    }
   ],
   "source": [
    "nput = \"tiger is the national animal in India and national sport is Hockey\"\n",
    "pattern = \"national\"\n",
    "\n",
    "output = re.findall(pattern, nput)\n",
    "print(output)"
   ]
  },
  {
   "cell_type": "code",
   "execution_count": 35,
   "metadata": {},
   "outputs": [
    {
     "ename": "AttributeError",
     "evalue": "'str' object has no attribute 'start'",
     "output_type": "error",
     "traceback": [
      "\u001b[1;31m---------------------------------------------------------------------------\u001b[0m",
      "\u001b[1;31mAttributeError\u001b[0m                            Traceback (most recent call last)",
      "\u001b[1;32m<ipython-input-35-94e7e2e43fe3>\u001b[0m in \u001b[0;36m<module>\u001b[1;34m\u001b[0m\n\u001b[0;32m      1\u001b[0m \u001b[0moutput\u001b[0m \u001b[1;33m=\u001b[0m \u001b[0mre\u001b[0m\u001b[1;33m.\u001b[0m\u001b[0mfinditer\u001b[0m\u001b[1;33m(\u001b[0m\u001b[0mpattern\u001b[0m\u001b[1;33m,\u001b[0m \u001b[0mnput\u001b[0m\u001b[1;33m)\u001b[0m\u001b[1;33m\u001b[0m\u001b[1;33m\u001b[0m\u001b[0m\n\u001b[0;32m      2\u001b[0m \u001b[1;32mfor\u001b[0m \u001b[0mm\u001b[0m \u001b[1;32min\u001b[0m \u001b[0mnput\u001b[0m\u001b[1;33m:\u001b[0m\u001b[1;33m\u001b[0m\u001b[1;33m\u001b[0m\u001b[0m\n\u001b[1;32m----> 3\u001b[1;33m     \u001b[0mprint\u001b[0m\u001b[1;33m(\u001b[0m\u001b[0mm\u001b[0m\u001b[1;33m.\u001b[0m\u001b[0mstart\u001b[0m\u001b[1;33m(\u001b[0m\u001b[1;33m)\u001b[0m\u001b[1;33m)\u001b[0m\u001b[1;33m\u001b[0m\u001b[1;33m\u001b[0m\u001b[0m\n\u001b[0m",
      "\u001b[1;31mAttributeError\u001b[0m: 'str' object has no attribute 'start'"
     ]
    }
   ],
   "source": [
    "output = re.finditer(pattern, nput)\n",
    "for m in nput:\n",
    "    print(m.start())"
   ]
  },
  {
   "cell_type": "code",
   "execution_count": 36,
   "metadata": {},
   "outputs": [
    {
     "name": "stdout",
     "output_type": "stream",
     "text": [
      "['12-09-1992', '15-12-1999']\n"
     ]
    }
   ],
   "source": [
    "string = \"Ron was born on 12-09-1992 and he was admitted to school on 15-12-1999\"\n",
    "pattern = \"\\d{2}-\\d{2}-\\d{4}\"\n",
    "\n",
    "mo = re.findall(pattern, string)\n",
    "print(mo)"
   ]
  },
  {
   "cell_type": "code",
   "execution_count": 37,
   "metadata": {},
   "outputs": [
    {
     "name": "stdout",
     "output_type": "stream",
     "text": [
      "Ron was born on Monday and he was admitted to school on Monday\n"
     ]
    }
   ],
   "source": [
    "print(re.sub(pattern, \"Monday\", string))"
   ]
  },
  {
   "cell_type": "code",
   "execution_count": 41,
   "metadata": {},
   "outputs": [
    {
     "name": "stdout",
     "output_type": "stream",
     "text": [
      "['26-10-2018', '27-10-2018']\n"
     ]
    }
   ],
   "source": [
    "sentence = \"the team started on 26-10-2018 and reached the destination on 27-10-2018\"\n",
    "pattern = '\\d{2}-\\d{2}-\\d{4}'\n",
    "mo = re.findall(pattern, sentence)\n",
    "print(mo)"
   ]
  },
  {
   "cell_type": "code",
   "execution_count": 44,
   "metadata": {},
   "outputs": [
    {
     "ename": "SyntaxError",
     "evalue": "can't assign to comparison (<ipython-input-44-334eacb7bab2>, line 2)",
     "output_type": "error",
     "traceback": [
      "\u001b[1;36m  File \u001b[1;32m\"<ipython-input-44-334eacb7bab2>\"\u001b[1;36m, line \u001b[1;32m2\u001b[0m\n\u001b[1;33m    skip = \"true\">a=\"this is going to end in 2019 i can't wait for the coming year\"\u001b[0m\n\u001b[1;37m          ^\u001b[0m\n\u001b[1;31mSyntaxError\u001b[0m\u001b[1;31m:\u001b[0m can't assign to comparison\n"
     ]
    }
   ],
   "source": [
    "string = \"this is going to end in 2019 i can't wait for the coming year\"\n",
    "skip = \"true\">a=\"this is going to end in 2019 i can't wait for the coming year\"\n",
    "result = re.sub(\"\\d{4}\",\"the coming year\",a)\n",
    "\n",
    "print(result)"
   ]
  },
  {
   "cell_type": "code",
   "execution_count": 47,
   "metadata": {},
   "outputs": [
    {
     "data": {
      "text/plain": [
       "[]"
      ]
     },
     "execution_count": 47,
     "metadata": {},
     "output_type": "execute_result"
    }
   ],
   "source": [
    "line = \"South Sudan declare independence from Sudan on 09 July 2011\"\n",
    "pattern = 2011\n",
    "mo = re.findall(\"\\d{2}\\{2}\",line)\n",
    "mo"
   ]
  },
  {
   "cell_type": "code",
   "execution_count": 50,
   "metadata": {},
   "outputs": [
    {
     "data": {
      "text/plain": [
       "'My laptop has a 16gb of RAM'"
      ]
     },
     "execution_count": 50,
     "metadata": {},
     "output_type": "execute_result"
    }
   ],
   "source": [
    "sentence = \"My laptop has a 4gb of RAM\"\n",
    "mo = re.sub(\"4\",\"16\",sentence)\n",
    "mo"
   ]
  },
  {
   "cell_type": "code",
   "execution_count": 57,
   "metadata": {},
   "outputs": [
    {
     "ename": "SyntaxError",
     "evalue": "unexpected character after line continuation character (<ipython-input-57-a36ec983ae66>, line 2)",
     "output_type": "error",
     "traceback": [
      "\u001b[1;36m  File \u001b[1;32m\"<ipython-input-57-a36ec983ae66>\"\u001b[1;36m, line \u001b[1;32m2\u001b[0m\n\u001b[1;33m    pattern = ([\\w.]+)@([\\w.]+)\u001b[0m\n\u001b[1;37m                               ^\u001b[0m\n\u001b[1;31mSyntaxError\u001b[0m\u001b[1;31m:\u001b[0m unexpected character after line continuation character\n"
     ]
    }
   ],
   "source": [
    "skip = \"true\">string = \"Contact us on training_queries@analyticvidhya.com\"\n",
    "pattern = ([\\w.]+)@([\\w.]+)\n",
    "match = re.search(pattern, skip)\n",
    "match"
   ]
  },
  {
   "cell_type": "code",
   "execution_count": null,
   "metadata": {},
   "outputs": [],
   "source": []
  }
 ],
 "metadata": {
  "kernelspec": {
   "display_name": "Python 3",
   "language": "python",
   "name": "python3"
  },
  "language_info": {
   "codemirror_mode": {
    "name": "ipython",
    "version": 3
   },
   "file_extension": ".py",
   "mimetype": "text/x-python",
   "name": "python",
   "nbconvert_exporter": "python",
   "pygments_lexer": "ipython3",
   "version": "3.7.6"
  }
 },
 "nbformat": 4,
 "nbformat_minor": 4
}
